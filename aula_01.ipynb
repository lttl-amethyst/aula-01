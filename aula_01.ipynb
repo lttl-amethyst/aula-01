{
  "nbformat": 4,
  "nbformat_minor": 0,
  "metadata": {
    "colab": {
      "provenance": [],
      "authorship_tag": "ABX9TyNV3E/D1S64KwQYlMjRroxx",
      "include_colab_link": true
    },
    "kernelspec": {
      "name": "python3",
      "display_name": "Python 3"
    },
    "language_info": {
      "name": "python"
    }
  },
  "cells": [
    {
      "cell_type": "markdown",
      "metadata": {
        "id": "view-in-github",
        "colab_type": "text"
      },
      "source": [
        "<a href=\"https://colab.research.google.com/github/lttl-amethyst/aula-01/blob/main/aula_01.ipynb\" target=\"_parent\"><img src=\"https://colab.research.google.com/assets/colab-badge.svg\" alt=\"Open In Colab\"/></a>"
      ]
    },
    {
      "cell_type": "code",
      "execution_count": 1,
      "metadata": {
        "colab": {
          "base_uri": "https://localhost:8080/"
        },
        "id": "SZn1qXzCzkLX",
        "outputId": "a47589a9-2adb-4c3e-c639-17d53b2e57b5"
      },
      "outputs": [
        {
          "output_type": "stream",
          "name": "stdout",
          "text": [
            "testando\n"
          ]
        }
      ],
      "source": [
        "valor = 2\n",
        "print(f\"testando {valor}\")"
      ]
    },
    {
      "cell_type": "code",
      "source": [
        "int = 100\n",
        "float = 8.9\n",
        "str = \"ablublublé\"\n",
        "bool = True and False"
      ],
      "metadata": {
        "id": "sdu55hb21YMv"
      },
      "execution_count": null,
      "outputs": []
    },
    {
      "cell_type": "code",
      "source": [
        "valor_1 = 10\n",
        "valor_2 = 20\n",
        "resultado = valor_1 + valor_2\n",
        "sub = valor_1 - valor_2\n",
        "mult = valor_1 * valor_2\n",
        "div = valor_1 / valor_2\n",
        "pot = valor_1 ** valor_2\n",
        "print (valor_1, valor_2)\n",
        "print(f'resultado: {resultado}')\n",
        "print(f'resultado: {sub}')\n",
        "print(f'resultado: {mult}')\n",
        "print(f'resultado: {div}')\n",
        "print(f'resultado: {pot}')"
      ],
      "metadata": {
        "colab": {
          "base_uri": "https://localhost:8080/"
        },
        "id": "QkzEdSBG5RfL",
        "outputId": "54832466-ef07-4487-cc08-695bc0a81d6f"
      },
      "execution_count": 18,
      "outputs": [
        {
          "output_type": "stream",
          "name": "stdout",
          "text": [
            "10 20\n",
            "resultado: 30\n",
            "resultado: -10\n",
            "resultado: 200\n",
            "resultado: 0.5\n",
            "resultado: 100000000000000000000\n"
          ]
        }
      ]
    },
    {
      "cell_type": "code",
      "source": [
        "nome = input('digite seu nome: ')\n",
        "idade = input ('digite sua idade: ')\n",
        "profissao = input ('digite sua profissão: ')\n",
        "\n",
        "print(nome)\n",
        "print(idade)\n",
        "print(profissao)"
      ],
      "metadata": {
        "colab": {
          "base_uri": "https://localhost:8080/"
        },
        "id": "h8NiWog--nPm",
        "outputId": "ef1e8cd3-54c9-4d2f-a50d-ccbd39b1b2e0"
      },
      "execution_count": 25,
      "outputs": [
        {
          "output_type": "stream",
          "name": "stdout",
          "text": [
            "digite seu nome: helo\n",
            "digite sua idade: 17\n",
            "digite sua profissão: otaria\n",
            "helo\n",
            "17\n",
            "otaria\n"
          ]
        }
      ]
    },
    {
      "cell_type": "code",
      "source": [
        "valor_1 = 12\n",
        "valor_2 = 6\n",
        "som = valor_1 + valor_2\n",
        "sub = valor_1 - valor_2\n",
        "mult = valor_1 * valor_2\n",
        "div = valor_1 / valor_2\n",
        "\n",
        "print(f'resultado: {som}')\n",
        "print(f'resultado: {sub}')\n",
        "print(f'resultado: {mult}')\n",
        "print(f'resultado: {div}')"
      ],
      "metadata": {
        "colab": {
          "base_uri": "https://localhost:8080/"
        },
        "id": "ocXSz6W4CM5D",
        "outputId": "7307efc5-7537-4633-82c4-5c58a47f66b9"
      },
      "execution_count": 28,
      "outputs": [
        {
          "output_type": "stream",
          "name": "stdout",
          "text": [
            "resultado: 18\n",
            "resultado: 6\n",
            "resultado: 72\n",
            "resultado: 2.0\n"
          ]
        }
      ]
    },
    {
      "cell_type": "code",
      "source": [
        "valor_1 = 7\n",
        "valor_2 = 2\n",
        "som = valor_1 + valor_2\n",
        "sub = valor_1 - valor_2\n",
        "mult = valor_1 * valor_2\n",
        "div = valor_1 / valor_2\n",
        "pot = valor_1 ** valor_2\n",
        "\n",
        "print(f'resultado: {som}')\n",
        "print(f'resultado: {sub}')\n",
        "print(f'resultado: {mult}')\n",
        "print(f'resultado: {div}')\n",
        "print(f'resultado: {pot}')"
      ],
      "metadata": {
        "colab": {
          "base_uri": "https://localhost:8080/"
        },
        "id": "6n3HsPYzCsBj",
        "outputId": "f364d50a-71fd-41d3-a43a-c6ab2faefc2e"
      },
      "execution_count": 29,
      "outputs": [
        {
          "output_type": "stream",
          "name": "stdout",
          "text": [
            "resultado: 9\n",
            "resultado: 5\n",
            "resultado: 14\n",
            "resultado: 3.5\n",
            "resultado: 49\n"
          ]
        }
      ]
    },
    {
      "cell_type": "code",
      "source": [
        "valor_1 = 15\n",
        "valor_2 = 5\n",
        "som = valor_1 + valor_2\n",
        "sub = valor_1 - valor_2\n",
        "mult = valor_1 * valor_2\n",
        "div = valor_1 / valor_2\n",
        "pot = valor_1 ** valor_2\n",
        "\n",
        "print(f'resultado: {som}')\n",
        "print(f'resultado: {sub}')\n",
        "print(f'resultado: {mult}')\n",
        "print(f'resultado: {div}')\n",
        "print(f'resultado: {pot}')"
      ],
      "metadata": {
        "colab": {
          "base_uri": "https://localhost:8080/"
        },
        "id": "CM_UQdUvDFby",
        "outputId": "6c892df3-d398-49f4-eebb-5799787b725a"
      },
      "execution_count": 30,
      "outputs": [
        {
          "output_type": "stream",
          "name": "stdout",
          "text": [
            "resultado: 20\n",
            "resultado: 10\n",
            "resultado: 75\n",
            "resultado: 3.0\n",
            "resultado: 759375\n"
          ]
        }
      ]
    }
  ]
}